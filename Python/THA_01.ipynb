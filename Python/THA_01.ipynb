{
 "cells": [
  {
   "cell_type": "markdown",
   "id": "2eaee0a6-8ec3-4fe1-a71a-055372b97b6a",
   "metadata": {},
   "source": [
    "# Take Home Assignment"
   ]
  },
  {
   "cell_type": "code",
   "execution_count": null,
   "id": "2256b558-572a-482c-830f-684a8c498489",
   "metadata": {},
   "outputs": [],
   "source": [
    "# Introduce your self\n",
    "first_name = ''\n",
    "last_name = ''\n",
    "university = ''\n",
    "\n",
    "\n",
    "# print your full name and where you studied before:\n"
   ]
  },
  {
   "cell_type": "markdown",
   "id": "2de52a12-b286-43ef-bb4d-14e5dfcce579",
   "metadata": {},
   "source": [
    "## Factorial\n",
    "Recall that  𝑛!  is read as “ 𝑛  factorial” and defined as  𝑛!=𝑛×(𝑛−1)×⋯×2×1 .\n",
    "\n",
    "There are functions to compute this in various modules, but let’s write our own version as an exercise.\n",
    "\n",
    "In particular, write a function factorial such that factorial(n) returns  𝑛! \n"
   ]
  },
  {
   "cell_type": "code",
   "execution_count": null,
   "id": "ecdf6cb9-7607-45f1-95d1-d24bdc43f834",
   "metadata": {},
   "outputs": [],
   "source": [
    "def factorial(n):\n",
    "    # write your code here\n",
    "    \n",
    "    return \n",
    "    \n",
    "    "
   ]
  },
  {
   "cell_type": "code",
   "execution_count": null,
   "id": "76e6320c-8810-4dc2-8fd3-28f267f452e4",
   "metadata": {},
   "outputs": [],
   "source": [
    "# this two lines test your function, do not change anything here\n",
    "assert factorial(5) == 5 * 4 * 3 * 2 * 1\n",
    "assert factorial(3) ==  3 * 2 * 1"
   ]
  },
  {
   "cell_type": "markdown",
   "id": "fed9ac13-b7a0-40bb-8805-625d8682db59",
   "metadata": {},
   "source": [
    "## Fibonacci\n",
    "Write a funtion that generates a fibonacci series until `n`;\n",
    "\n",
    "> **Fibonacci series**: a series of numbers in which each number ( Fibonacci number ) is the sum of the two preceding numbers. The simplest is the series 1, 1, 2, 3, 5, 8, etc.\n",
    "\n",
    "\n",
    "\n",
    "n = 20\n",
    "\n",
    "1,1,2,3,5,8,13\n"
   ]
  },
  {
   "cell_type": "code",
   "execution_count": null,
   "id": "1f373f17-405d-437d-9fbf-5c21ee9a9443",
   "metadata": {},
   "outputs": [],
   "source": [
    "# write your function here:\n"
   ]
  },
  {
   "cell_type": "code",
   "execution_count": null,
   "id": "6e6467bd-11b3-4d8c-bb4f-88fe9ae3daef",
   "metadata": {},
   "outputs": [],
   "source": [
    "# write your function in a way that you can change your first numbers \n",
    "# for example starts with a=3, b=10 and generates 13,23,36,etc\n",
    "\n",
    "def custom_fib(a:int,b:int,n:int)-> list:\n",
    "    # write the code here\n",
    "    raise NotImplementedError\n"
   ]
  },
  {
   "cell_type": "markdown",
   "id": "4a62bc76-9af2-4f43-bcb0-2c4eecf0d969",
   "metadata": {},
   "source": [
    "## Custom sum function\n",
    "Write a custom sum function that let user to get summation of odd or even numbers of a list\n",
    "\n",
    "```python\n",
    "custom_sum([1,2,3,4], odds=True) # returns 4\n",
    "custom_sum([1,2,3,4], odds=False)# returns 6\n",
    "```\n",
    "> hint: use if statemtent"
   ]
  },
  {
   "cell_type": "code",
   "execution_count": null,
   "id": "bb4ee622-cd60-40c8-a1bf-6c3d1eb95e14",
   "metadata": {},
   "outputs": [],
   "source": [
    "def custom_sum(numbers: list, odds: bool) -> int:\n",
    "    # write your code here\n",
    "    raise NotImplementedError\n"
   ]
  },
  {
   "cell_type": "code",
   "execution_count": null,
   "id": "325a7165-6f36-4b31-a78f-af4295e8dfb8",
   "metadata": {},
   "outputs": [],
   "source": [
    "assert custom_sum([1,2,3,4], odds=True) == 4\n",
    "assert custom_sum([1,2,3,4], odds=False) == 6"
   ]
  },
  {
   "cell_type": "markdown",
   "id": "f1982296-120b-4150-b664-a04f3baa5e42",
   "metadata": {},
   "source": [
    "## Bonous\n",
    "Re write your custom_sum function in order to get a function as input and returns sum on numbers that match critirie of that function i.e.\n",
    "\n",
    "```python\n",
    "def is_divisible_by_three(number):\n",
    "    return number % 3 == 0 # %  returns the remainder of a division.\n",
    "\n",
    "new_custom_sum([1,2,3,4,5,6], condition=is_divisible_by_three) # should rertun 9\n",
    "```\n",
    "    \n",
    "    "
   ]
  },
  {
   "cell_type": "code",
   "execution_count": null,
   "id": "519128e6-01ef-4623-b25a-38ef470702cf",
   "metadata": {},
   "outputs": [],
   "source": []
  }
 ],
 "metadata": {
  "kernelspec": {
   "display_name": "Python 3",
   "language": "python",
   "name": "python3"
  },
  "language_info": {
   "codemirror_mode": {
    "name": "ipython",
    "version": 3
   },
   "file_extension": ".py",
   "mimetype": "text/x-python",
   "name": "python",
   "nbconvert_exporter": "python",
   "pygments_lexer": "ipython3",
   "version": "3.9.4"
  }
 },
 "nbformat": 4,
 "nbformat_minor": 5
}
