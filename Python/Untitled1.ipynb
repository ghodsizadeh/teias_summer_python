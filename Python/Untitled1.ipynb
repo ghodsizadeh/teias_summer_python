{
 "cells": [
  {
   "cell_type": "code",
   "execution_count": 17,
   "id": "54e38946-ea5b-48c2-a755-48918f4df42a",
   "metadata": {},
   "outputs": [
    {
     "name": "stdout",
     "output_type": "stream",
     "text": [
      "CPU times: user 60.8 ms, sys: 5.57 ms, total: 66.4 ms\n",
      "Wall time: 64.9 ms\n"
     ]
    }
   ],
   "source": [
    "%%time\n",
    "numbers = list(range(100000))\n",
    "new_numbers = [x**2 for x in numbers  ]\n"
   ]
  },
  {
   "cell_type": "code",
   "execution_count": 19,
   "id": "ae315709-9300-4f85-9d5c-8a62ea233a5a",
   "metadata": {},
   "outputs": [
    {
     "name": "stdout",
     "output_type": "stream",
     "text": [
      "CPU times: user 59.2 ms, sys: 4.49 ms, total: 63.6 ms\n",
      "Wall time: 62.5 ms\n"
     ]
    }
   ],
   "source": [
    "%%time\n",
    "numbers = list(range(100000))\n",
    "new_numbers = list((x**2 for x in numbers  ))\n"
   ]
  },
  {
   "cell_type": "code",
   "execution_count": 28,
   "id": "243f212b-0d68-4f8c-a2b5-c2f94a682143",
   "metadata": {},
   "outputs": [
    {
     "data": {
      "text/plain": [
       "[4761995,\n",
       " 1009701,\n",
       " 8033905,\n",
       " 2765981,\n",
       " 2290846,\n",
       " 5787120,\n",
       " 6649675,\n",
       " 3322692,\n",
       " 6216044,\n",
       " 3315532]"
      ]
     },
     "execution_count": 28,
     "metadata": {},
     "output_type": "execute_result"
    }
   ],
   "source": [
    "from random import randint\n",
    "def random_func(n):\n",
    "    temp = []\n",
    "    for i in range(n):\n",
    "        x = randint(10**6, 10**7)\n",
    "        temp.append(x)\n",
    "    return temp\n",
    "\n",
    "random_func(10)\n"
   ]
  },
  {
   "cell_type": "code",
   "execution_count": 59,
   "id": "abd520a8-be09-4065-aa48-d8c9c0664578",
   "metadata": {},
   "outputs": [
    {
     "data": {
      "text/plain": [
       "<generator object random_gen at 0x1127e6190>"
      ]
     },
     "execution_count": 59,
     "metadata": {},
     "output_type": "execute_result"
    }
   ],
   "source": [
    "def random_gen(items):\n",
    "    for i in items:\n",
    "        yield i\n",
    "    \n",
    "\n",
    "rg = random_gen([1,2,3])     \n",
    "rg"
   ]
  },
  {
   "cell_type": "code",
   "execution_count": 60,
   "id": "d0cc3296-d919-46e5-918b-50ae2265b510",
   "metadata": {},
   "outputs": [
    {
     "name": "stdout",
     "output_type": "stream",
     "text": [
      "1\n",
      "2\n",
      "3\n"
     ]
    }
   ],
   "source": [
    "for i in rg:\n",
    "    print(i)"
   ]
  },
  {
   "cell_type": "code",
   "execution_count": 62,
   "id": "0122bd37-ec62-485e-82ad-c36c33102c47",
   "metadata": {},
   "outputs": [
    {
     "name": "stdout",
     "output_type": "stream",
     "text": [
      "2\n"
     ]
    },
    {
     "data": {
      "text/plain": [
       "4"
      ]
     },
     "execution_count": 62,
     "metadata": {},
     "output_type": "execute_result"
    }
   ],
   "source": [
    "from functools import cache\n",
    "\n",
    "@app.get(\"/path/to/endpoint\")\n",
    "def f(n):\n",
    "    print(n)\n",
    "    \n",
    "    return n**2\n",
    "f = cache(f)\n",
    "f(2)"
   ]
  },
  {
   "cell_type": "code",
   "execution_count": null,
   "id": "a72d87e6-6a53-41d3-965d-cb276e522325",
   "metadata": {},
   "outputs": [],
   "source": []
  },
  {
   "cell_type": "code",
   "execution_count": 65,
   "id": "2f760f87-d7ec-4d89-9615-065a0cac919f",
   "metadata": {},
   "outputs": [],
   "source": [
    "x = [1, 5, 4]\n",
    "\n",
    "# x.appe"
   ]
  },
  {
   "cell_type": "code",
   "execution_count": 66,
   "id": "ee9d0125-f0b8-4bd4-b9c6-694e7165cd80",
   "metadata": {},
   "outputs": [],
   "source": [
    "x.append(10)"
   ]
  },
  {
   "cell_type": "code",
   "execution_count": 67,
   "id": "2b240090-dbe0-4307-8acf-10a828021b11",
   "metadata": {},
   "outputs": [],
   "source": [
    "x.append(10)"
   ]
  },
  {
   "cell_type": "code",
   "execution_count": 69,
   "id": "dcc4469d-eecb-4a97-813f-82d8c124b6d7",
   "metadata": {},
   "outputs": [],
   "source": [
    "def get_data():\n",
    "    pass\n",
    "\n",
    "def clean_data(data):\n",
    "    pass\n",
    "\n",
    "def get_report(data):\n",
    "    pass"
   ]
  },
  {
   "cell_type": "code",
   "execution_count": null,
   "id": "f5746f46-f949-4f2b-b3ef-edaa4cd1848a",
   "metadata": {},
   "outputs": [],
   "source": [
    "class MarketPrediction:\n",
    "    def __init__(self, csv: str):\n",
    "        self.csv_path = csv\n",
    "        \n",
    "    \n",
    "    def get_data(self):\n",
    "        self.df = pd.read_csv(self.csv_path)\n",
    "        \n",
    "    def clean_data(self):\n",
    "        df = self.df\n",
    "        \n",
    "        ## clean\n",
    "        self.df = df\n",
    "        "
   ]
  },
  {
   "cell_type": "markdown",
   "id": "a2dbde09-0d05-4ba6-b659-ccaa891674de",
   "metadata": {},
   "source": [
    "# Inheritance"
   ]
  },
  {
   "cell_type": "code",
   "execution_count": 70,
   "id": "fc55be7a-a124-467f-b422-910d6a4d048f",
   "metadata": {},
   "outputs": [],
   "source": [
    "class NewInt(int):\n",
    "    def __eq__(self,other):\n",
    "        return self != other"
   ]
  },
  {
   "cell_type": "code",
   "execution_count": 74,
   "id": "56bbc9f5-612e-4df2-b761-e4cd7b501a08",
   "metadata": {},
   "outputs": [
    {
     "data": {
      "text/plain": [
       "True"
      ]
     },
     "execution_count": 74,
     "metadata": {},
     "output_type": "execute_result"
    }
   ],
   "source": [
    "x = 1\n",
    "y = NewInt(2)\n",
    "\n",
    "y == x"
   ]
  },
  {
   "cell_type": "code",
   "execution_count": 82,
   "id": "21790981-1e2f-485c-a253-bfd9012900ff",
   "metadata": {},
   "outputs": [
    {
     "data": {
      "text/plain": [
       "['__add__',\n",
       " '__class__',\n",
       " '__class_getitem__',\n",
       " '__contains__',\n",
       " '__delattr__',\n",
       " '__delitem__',\n",
       " '__dir__',\n",
       " '__doc__',\n",
       " '__eq__',\n",
       " '__format__',\n",
       " '__ge__',\n",
       " '__getattribute__',\n",
       " '__getitem__',\n",
       " '__gt__',\n",
       " '__hash__',\n",
       " '__iadd__',\n",
       " '__imul__',\n",
       " '__init__',\n",
       " '__init_subclass__',\n",
       " '__iter__',\n",
       " '__le__',\n",
       " '__len__',\n",
       " '__lt__',\n",
       " '__mul__',\n",
       " '__ne__',\n",
       " '__new__',\n",
       " '__reduce__',\n",
       " '__reduce_ex__',\n",
       " '__repr__',\n",
       " '__reversed__',\n",
       " '__rmul__',\n",
       " '__setattr__',\n",
       " '__setitem__',\n",
       " '__sizeof__',\n",
       " '__str__',\n",
       " '__subclasshook__',\n",
       " 'append',\n",
       " 'clear',\n",
       " 'copy',\n",
       " 'count',\n",
       " 'extend',\n",
       " 'index',\n",
       " 'insert',\n",
       " 'pop',\n",
       " 'remove',\n",
       " 'reverse',\n",
       " 'sort']"
      ]
     },
     "execution_count": 82,
     "metadata": {},
     "output_type": "execute_result"
    }
   ],
   "source": [
    "x = [1,2]\n",
    "dir(x)"
   ]
  },
  {
   "cell_type": "code",
   "execution_count": 101,
   "id": "0a37ca48-0df4-4d8d-a705-c1d2adff9f54",
   "metadata": {},
   "outputs": [
    {
     "data": {
      "text/plain": [
       "__main__.NewList"
      ]
     },
     "execution_count": 101,
     "metadata": {},
     "output_type": "execute_result"
    }
   ],
   "source": [
    "class NewList(list):\n",
    "    def __init__(self,*args,**kwargs):\n",
    "\n",
    "        super().__init__(*args,**kwargs)\n",
    "        self.mean_number = self.mean()\n",
    "        \n",
    "        \n",
    "    def mean(self):\n",
    "        sum_ = sum(self)\n",
    "        return sum_ / len(self)\n",
    "    \n",
    "y = [1,2,3,4]\n",
    "# x.mean()\n",
    "x = NewList(y)\n",
    "type(x)\n",
    "# x.mean_number"
   ]
  },
  {
   "cell_type": "code",
   "execution_count": 94,
   "id": "b404fca4-41ed-4338-bf95-6713fbb5dc97",
   "metadata": {},
   "outputs": [
    {
     "data": {
      "text/plain": [
       "\u001b[0;31mSignature:\u001b[0m      \u001b[0mlist\u001b[0m\u001b[0;34m.\u001b[0m\u001b[0m__init__\u001b[0m\u001b[0;34m(\u001b[0m\u001b[0mself\u001b[0m\u001b[0;34m,\u001b[0m \u001b[0;34m/\u001b[0m\u001b[0;34m,\u001b[0m \u001b[0;34m*\u001b[0m\u001b[0margs\u001b[0m\u001b[0;34m,\u001b[0m \u001b[0;34m**\u001b[0m\u001b[0mkwargs\u001b[0m\u001b[0;34m)\u001b[0m\u001b[0;34m\u001b[0m\u001b[0;34m\u001b[0m\u001b[0m\n",
       "\u001b[0;31mCall signature:\u001b[0m \u001b[0mlist\u001b[0m\u001b[0;34m.\u001b[0m\u001b[0m__init__\u001b[0m\u001b[0;34m(\u001b[0m\u001b[0;34m*\u001b[0m\u001b[0margs\u001b[0m\u001b[0;34m,\u001b[0m \u001b[0;34m**\u001b[0m\u001b[0mkwargs\u001b[0m\u001b[0;34m)\u001b[0m\u001b[0;34m\u001b[0m\u001b[0;34m\u001b[0m\u001b[0m\n",
       "\u001b[0;31mType:\u001b[0m           wrapper_descriptor\n",
       "\u001b[0;31mString form:\u001b[0m    <slot wrapper '__init__' of 'list' objects>\n",
       "\u001b[0;31mNamespace:\u001b[0m      Python builtin\n",
       "\u001b[0;31mDocstring:\u001b[0m      Initialize self.  See help(type(self)) for accurate signature.\n"
      ]
     },
     "metadata": {},
     "output_type": "display_data"
    }
   ],
   "source": [
    "list.__init__??"
   ]
  },
  {
   "cell_type": "code",
   "execution_count": 92,
   "id": "14b87e6b-55e7-4f8d-a7bd-72fa3dc29e19",
   "metadata": {},
   "outputs": [
    {
     "data": {
      "text/plain": [
       "4.0"
      ]
     },
     "execution_count": 92,
     "metadata": {},
     "output_type": "execute_result"
    }
   ],
   "source": [
    "x.mean()"
   ]
  },
  {
   "cell_type": "code",
   "execution_count": 93,
   "id": "ead427bf-8f64-4591-9884-2ea9c270c7a5",
   "metadata": {},
   "outputs": [
    {
     "data": {
      "text/plain": [
       "2.5"
      ]
     },
     "execution_count": 93,
     "metadata": {},
     "output_type": "execute_result"
    }
   ],
   "source": [
    "x.mean_number"
   ]
  }
 ],
 "metadata": {
  "kernelspec": {
   "display_name": "Python 3",
   "language": "python",
   "name": "python3"
  },
  "language_info": {
   "codemirror_mode": {
    "name": "ipython",
    "version": 3
   },
   "file_extension": ".py",
   "mimetype": "text/x-python",
   "name": "python",
   "nbconvert_exporter": "python",
   "pygments_lexer": "ipython3",
   "version": "3.9.4"
  }
 },
 "nbformat": 4,
 "nbformat_minor": 5
}
